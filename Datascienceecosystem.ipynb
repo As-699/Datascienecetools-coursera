{
 "cells": [
  {
   "cell_type": "markdown",
   "metadata": {},
   "source": [
    "<center>\n",
    "    <img src=\"https://cf-courses-data.s3.us.cloud-object-storage.appdomain.cloud/IBMDeveloperSkillsNetwork-DS0105EN-SkillsNetwork/labs/Module2/images/SN_web_lightmode.png\" width=\"300\" alt=\"cognitiveclass.ai logo\">\n",
    "</center>\n"
   ]
  },
  {
   "cell_type": "markdown",
   "metadata": {},
   "source": [
    "#### Add your code below following the instructions given in the course\n"
   ]
  },
  {
   "cell_type": "markdown",
   "metadata": {},
   "source": [
    "Data Science Tools and Ecosystem"
   ]
  },
  {
   "cell_type": "markdown",
   "metadata": {},
   "source": [
    "In this notebook we will be studying about the data science and tools for the data science and also various ecosystems involved in that.\n",
    "First we will start by defining data science then the various tools and then the ecosystem."
   ]
  },
  {
   "cell_type": "markdown",
   "metadata": {},
   "source": [
    "objectives of the notebook are-\n",
    "1. to define the data science\n",
    "2. to talk about various tools\n",
    "3. to talk about simple things in pyhton."
   ]
  },
  {
   "cell_type": "markdown",
   "metadata": {},
   "source": [
    "Some of the most common data science languages are- "
   ]
  },
  {
   "cell_type": "code",
   "execution_count": 11,
   "metadata": {
    "tags": []
   },
   "outputs": [
    {
     "name": "stdout",
     "output_type": "stream",
     "text": [
      "1.python\n",
      "2.java\n",
      "3.R\n"
     ]
    }
   ],
   "source": [
    "mylist=('1.python\\n2.java\\n3.R')\n",
    "print(mylist)"
   ]
  },
  {
   "cell_type": "markdown",
   "metadata": {},
   "source": [
    "some of the most common data science libraries are-"
   ]
  },
  {
   "cell_type": "code",
   "execution_count": 12,
   "metadata": {
    "tags": []
   },
   "outputs": [
    {
     "name": "stdout",
     "output_type": "stream",
     "text": [
      "1.Pandas\n",
      "2.Numpy\n",
      "3.Scikit-learn\n"
     ]
    }
   ],
   "source": [
    "mylist=('1.Pandas\\n2.Numpy\\n3.Scikit-learn')\n",
    "print(mylist)"
   ]
  },
  {
   "cell_type": "markdown",
   "metadata": {},
   "source": [
    "following is the table for the various data science tools\n"
   ]
  },
  {
   "cell_type": "code",
   "execution_count": 14,
   "metadata": {
    "tags": []
   },
   "outputs": [
    {
     "name": "stdout",
     "output_type": "stream",
     "text": [
      "Collecting tabulate\n",
      "  Downloading tabulate-0.9.0-py3-none-any.whl (35 kB)\n",
      "Installing collected packages: tabulate\n",
      "Successfully installed tabulate-0.9.0\n",
      "Note: you may need to restart the kernel to use updated packages.\n"
     ]
    }
   ],
   "source": [
    "pip install tabulate"
   ]
  },
  {
   "cell_type": "code",
   "execution_count": 15,
   "metadata": {
    "tags": []
   },
   "outputs": [
    {
     "name": "stdout",
     "output_type": "stream",
     "text": [
      "+----------------------+\n",
      "| Data science tools   |\n",
      "+======================+\n",
      "| Julia                |\n",
      "+----------------------+\n",
      "| Apache Spark         |\n",
      "+----------------------+\n",
      "| Jupyter Notebook     |\n",
      "+----------------------+\n"
     ]
    }
   ],
   "source": [
    "#import module\n",
    "from tabulate import tabulate\n",
    "\n",
    "# assign data\n",
    "mydata = [\n",
    "['Julia'],\n",
    "['Apache Spark'],\n",
    "['Jupyter Notebook']\n",
    "\n",
    "]\n",
    "\n",
    "# create header\n",
    "head = ['Data science tools']\n",
    "\n",
    "# display table\n",
    "print(tabulate(mydata, headers=head, tablefmt=\"grid\"))"
   ]
  },
  {
   "cell_type": "markdown",
   "metadata": {},
   "source": [
    "Below are the few arithmetic expressions in python-\n"
   ]
  },
  {
   "cell_type": "markdown",
   "metadata": {
    "tags": []
   },
   "source": [
    "a=20\n",
    "b=30\n",
    "c=40\n",
    "d=50\n",
    "e=60\n",
    "f=70\n",
    "g=a+b+c+d+f+e\n",
    "print(g)\n",
    "h=e+((c*d)/b)**2\n",
    "print(h)\n",
    "i=h%g\n",
    "print(i);"
   ]
  },
  {
   "cell_type": "markdown",
   "metadata": {},
   "source": [
    "this is a simple arithmetic operation:"
   ]
  },
  {
   "cell_type": "code",
   "execution_count": 31,
   "metadata": {
    "tags": []
   },
   "outputs": [
    {
     "name": "stdout",
     "output_type": "stream",
     "text": [
      "input the integers you want to add\n"
     ]
    },
    {
     "name": "stdin",
     "output_type": "stream",
     "text": [
      "enter the first number: 8\n",
      "enter the second number: 8\n"
     ]
    },
    {
     "name": "stdout",
     "output_type": "stream",
     "text": [
      "the sum of two integers are: 16\n"
     ]
    },
    {
     "name": "stdin",
     "output_type": "stream",
     "text": [
      "enter the number you want to multiply: 9\n"
     ]
    },
    {
     "name": "stdout",
     "output_type": "stream",
     "text": [
      "the final answer is: 144\n"
     ]
    }
   ],
   "source": [
    "print('input the integers you want to add')\n",
    "a=int(input('enter the first number:'))\n",
    "b=int(input('enter the second number:'))\n",
    "c=a+b\n",
    "print('the sum of two integers are:', c)\n",
    "d=int(input('enter the number you want to multiply:'))\n",
    "e=c*d\n",
    "print('the final answer is:',e)"
   ]
  },
  {
   "cell_type": "markdown",
   "metadata": {},
   "source": [
    "a program to convert minutes to hour-\n"
   ]
  },
  {
   "cell_type": "code",
   "execution_count": 51,
   "metadata": {
    "tags": []
   },
   "outputs": [
    {
     "name": "stdin",
     "output_type": "stream",
     "text": [
      "enter the total minutes 200\n"
     ]
    },
    {
     "name": "stdout",
     "output_type": "stream",
     "text": [
      "total time is 3 hrs  20 mins\n"
     ]
    }
   ],
   "source": [
    "\n",
    "total_min= int(input('enter the total minutes'))\n",
    "hours= int(total_min/60)\n",
    "minutes= total_min%60\n",
    "print('total time is', hours,'hrs ',minutes,'mins')\n"
   ]
  },
  {
   "cell_type": "markdown",
   "metadata": {},
   "source": [
    "Author:\n",
    "A S"
   ]
  },
  {
   "cell_type": "code",
   "execution_count": null,
   "metadata": {},
   "outputs": [],
   "source": []
  }
 ],
 "metadata": {
  "kernelspec": {
   "display_name": "Python",
   "language": "python",
   "name": "conda-env-python-py"
  },
  "language_info": {
   "codemirror_mode": {
    "name": "ipython",
    "version": 3
   },
   "file_extension": ".py",
   "mimetype": "text/x-python",
   "name": "python",
   "nbconvert_exporter": "python",
   "pygments_lexer": "ipython3",
   "version": "3.7.12"
  },
  "toc-autonumbering": false
 },
 "nbformat": 4,
 "nbformat_minor": 4
}
